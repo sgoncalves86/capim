{
 "cells": [
  {
   "cell_type": "markdown",
   "metadata": {},
   "source": [
    "## Desafio Capim"
   ]
  },
  {
   "cell_type": "markdown",
   "metadata": {},
   "source": [
    "#### Test Case - Data Analyst"
   ]
  },
  {
   "cell_type": "code",
   "execution_count": null,
   "metadata": {},
   "outputs": [],
   "source": [
    "import pandas as pd\n",
    "\n",
    "clinics = pd.read_csv('clinics.csv')\n",
    "subscriptions = pd.read_csv('subscriptions.csv')\n",
    "activity = pd.read_csv('activity.csv')"
   ]
  },
  {
   "cell_type": "markdown",
   "metadata": {},
   "source": [
    "#### Análise de Dados Exploratória (EDA)"
   ]
  },
  {
   "cell_type": "markdown",
   "metadata": {},
   "source": [
    "#### Clinics"
   ]
  },
  {
   "cell_type": "code",
   "execution_count": null,
   "metadata": {},
   "outputs": [],
   "source": [
    "clinics.head()"
   ]
  },
  {
   "cell_type": "markdown",
   "metadata": {},
   "source": [
    "#### Limpeza e Preparação dos Dados"
   ]
  },
  {
   "cell_type": "code",
   "execution_count": null,
   "metadata": {},
   "outputs": [],
   "source": [
    "date_columns = [\n",
    "    'CLINIC_CREATED_AT',\n",
    "    'TRIAL_START_DATE',\n",
    "    'TRIAL_END_DATE'\n",
    "]\n",
    "\n",
    "for col in date_columns:\n",
    "    clinics[col] = pd.to_datetime(clinics[col])\n",
    "\n",
    "clinics.info()"
   ]
  },
  {
   "cell_type": "code",
   "execution_count": null,
   "metadata": {},
   "outputs": [],
   "source": [
    "clinics = clinics[~((clinics['BUSINESS_SEGMENTATION'] == 'Rede Homologada') & (clinics['IS_CHAIN_CLINIC'] == True))]\n",
    "\n",
    "clinics.info()"
   ]
  },
  {
   "cell_type": "code",
   "execution_count": null,
   "metadata": {},
   "outputs": [],
   "source": [
    "dias_da_semana = {\n",
    "    1: 'Segunda-feira',\n",
    "    2: 'Terça-feira',\n",
    "    3: 'Quarta-feira',\n",
    "    4: 'Quinta-feira',\n",
    "    5: 'Sexta-feira',\n",
    "    6: 'Sábado',\n",
    "    7: 'Domingo'\n",
    "}\n",
    "\n",
    "clinics['TRIAL_START_DAY_NAME'] = clinics['TRIAL_START_DAY_OF_WEEK'].map(dias_da_semana)"
   ]
  },
  {
   "cell_type": "code",
   "execution_count": null,
   "metadata": {},
   "outputs": [],
   "source": [
    "numerical_stats = clinics.describe()\n",
    "\n",
    "categorical_distribution = clinics.describe(include=['object', 'bool'])\n",
    "\n",
    "numerical_stats, categorical_distribution"
   ]
  },
  {
   "cell_type": "markdown",
   "metadata": {},
   "source": [
    "#### Subscriptions"
   ]
  },
  {
   "cell_type": "markdown",
   "metadata": {},
   "source": [
    "#### Limpeza e Preparação dos Dados"
   ]
  },
  {
   "cell_type": "code",
   "execution_count": null,
   "metadata": {},
   "outputs": [],
   "source": [
    "date_columns = [\n",
    "    'SUBSCRIPTION_START_DATE',\n",
    "    'SUBSCRIPTION_END_DATE',\n",
    "    'SUBSCRIPTION_CURRENT_PERIOD_STARTED_AT',\n",
    "    'SUBSCRIPTION_CURRENT_PERIOD_ENDS_AT',\n",
    "    'MOST_RECENT_INVOICE_CREATED_AT',\n",
    "    'LAST_PAYMENT_AT'\n",
    "]\n",
    "\n",
    "for col in date_columns:\n",
    "    subscriptions[col] = pd.to_datetime(subscriptions[col])\n",
    "\n",
    "subscriptions.info()"
   ]
  },
  {
   "cell_type": "code",
   "execution_count": null,
   "metadata": {},
   "outputs": [],
   "source": [
    "numerical_stats_subscription = subscriptions.describe()\n",
    "\n",
    "categorical_distribution_subscription = subscriptions.describe(include=['object', 'bool'])\n",
    "\n",
    "numerical_stats_subscription, categorical_distribution_subscription"
   ]
  },
  {
   "cell_type": "code",
   "execution_count": null,
   "metadata": {},
   "outputs": [],
   "source": [
    "active_subscriptions = subscriptions[subscriptions['SUBSCRIPTION_STATUS'] == 'active'].shape[0]\n",
    "cancelled_subscriptions = subscriptions[subscriptions['SUBSCRIPTION_STATUS'] == 'cancelled'].shape[0]\n",
    "\n",
    "cancellation_rate = cancelled_subscriptions / subscriptions.shape[0]\n",
    "\n",
    "subscriptions['SUBSCRIPTION_DURATION'] = (subscriptions['SUBSCRIPTION_END_DATE'] - subscriptions['SUBSCRIPTION_START_DATE']).dt.days\n",
    "average_subscription_duration = subscriptions['SUBSCRIPTION_DURATION'].mean()\n",
    "\n",
    "active_subscriptions, cancelled_subscriptions, cancellation_rate, average_subscription_duration"
   ]
  },
  {
   "cell_type": "markdown",
   "metadata": {},
   "source": [
    "#### Activity"
   ]
  },
  {
   "cell_type": "code",
   "execution_count": null,
   "metadata": {},
   "outputs": [],
   "source": [
    "activity['ACTIVITY_AT'] = pd.to_datetime(activity['ACTIVITY_AT'])\n",
    "\n",
    "activity.info()"
   ]
  },
  {
   "cell_type": "code",
   "execution_count": null,
   "metadata": {},
   "outputs": [],
   "source": [
    "numerical_stats_activity = activity.describe()\n",
    "\n",
    "categorical_distribution_activity = activity.describe(include=['object', 'bool'])\n",
    "\n",
    "numerical_stats_activity, categorical_distribution_activity"
   ]
  },
  {
   "cell_type": "markdown",
   "metadata": {},
   "source": [
    "#### Análises - Modelo de Dados unindo as tabelas"
   ]
  },
  {
   "cell_type": "markdown",
   "metadata": {},
   "source": [
    "Mesclando as tabelas"
   ]
  },
  {
   "cell_type": "code",
   "execution_count": null,
   "metadata": {},
   "outputs": [],
   "source": [
    "join = pd.merge(clinics, subscriptions, on='CLINIC_ID', how='left', suffixes=('_clinic', '_subscription'))\n",
    "\n",
    "join = pd.merge(join, activity, on='CLINIC_ID', how='left')"
   ]
  },
  {
   "cell_type": "code",
   "execution_count": null,
   "metadata": {},
   "outputs": [],
   "source": [
    "join.info()"
   ]
  },
  {
   "cell_type": "code",
   "execution_count": null,
   "metadata": {},
   "outputs": [],
   "source": [
    "base_final = join.groupby('CLINIC_ID').agg({\n",
    "    'CLINIC_CREATED_AT': 'first',\n",
    "    'INTEREST_CATEGORY_SIGNUP': 'first',\n",
    "    'TRIAL_START_DATE': 'first',\n",
    "    'TRIAL_END_DATE': 'first',\n",
    "    'TRIAL_START_DAY_OF_WEEK': 'first',\n",
    "    'TRIAL_START_DAY_OF_WEEK_CATEGORY':'first',\n",
    "    'TRIAL_START_DAY_NAME':'first',\n",
    "    'SUBSCRIPTION_START_DATE': 'first',\n",
    "    'SUBSCRIPTION_END_DATE': 'first',\n",
    "    'SUBSCRIPTION_STATUS': 'last',\n",
    "    'ACTIVITY_AT': ['min', 'max'],\n",
    "    'IS_VALID_ACTIVITY': 'sum',\n",
    "    'IS_DELETION_ACTIVITY': 'sum'\n",
    "}).reset_index()\n",
    "\n",
    "base_final.columns = ['CLINIC_ID', 'CLINIC_CREATED_AT', 'INTEREST_CATEGORY_SIGNUP',  'TRIAL_START_DATE', 'TRIAL_END_DATE', \n",
    "                           'TRIAL_START_DAY_OF_WEEK','TRIAL_START_DAY_OF_WEEK_CATEGORY', 'TRIAL_START_DAY_NAME', \n",
    "                           'SUBSCRIPTION_START_DATE', 'SUBSCRIPTION_END_DATE', 'SUBSCRIPTION_STATUS', 'FIRST_ACTIVITY_DATE', \n",
    "                           'LAST_ACTIVITY_DATE', 'VALID_ACTIVITIES_COUNT', 'INVALID_ACTIVITIES_COUNT']\n",
    "\n",
    "base_final.info()\n"
   ]
  },
  {
   "cell_type": "markdown",
   "metadata": {},
   "source": [
    "Salvando arquivo na rede"
   ]
  },
  {
   "cell_type": "code",
   "execution_count": null,
   "metadata": {},
   "outputs": [],
   "source": [
    "# Salvar a tabela agregada em CSV\n",
    "base_final.to_csv('base_final_capim.csv', index=False, encoding='ansi')\n"
   ]
  },
  {
   "cell_type": "markdown",
   "metadata": {},
   "source": [
    "Análise de Taxa de Conversão"
   ]
  },
  {
   "cell_type": "code",
   "execution_count": null,
   "metadata": {},
   "outputs": [],
   "source": [
    "total_trial = len(base_final)\n",
    "total_assinantes = base_final['SUBSCRIPTION_START_DATE'].notna().sum()\n",
    "taxa_conversao = total_assinantes / total_trial * 100\n",
    "\n",
    "print(f'Taxa de Conversão: {taxa_conversao:.2f}%')"
   ]
  },
  {
   "cell_type": "markdown",
   "metadata": {},
   "source": [
    "Análise de Atividade"
   ]
  },
  {
   "cell_type": "code",
   "execution_count": null,
   "metadata": {},
   "outputs": [],
   "source": [
    "atividades_validas_medias = base_final['VALID_ACTIVITIES_COUNT'].astype(float).mean()\n",
    "atividades_invalidas_medias = base_final['INVALID_ACTIVITIES_COUNT'].astype(float).mean()\n",
    "\n",
    "print(f'Atividades Válidas Médias: {atividades_validas_medias:.2f}')\n",
    "print(f'Atividades Inválidas Médias: {atividades_invalidas_medias:.2f}')"
   ]
  },
  {
   "cell_type": "markdown",
   "metadata": {},
   "source": [
    "Análise por Categoria de Interesse\n"
   ]
  },
  {
   "cell_type": "code",
   "execution_count": null,
   "metadata": {},
   "outputs": [],
   "source": [
    "categorias_interesse = base_final['INTEREST_CATEGORY_SIGNUP'].unique()\n",
    "\n",
    "for categoria in categorias_interesse:\n",
    "    total_categoria = base_final[base_final['INTEREST_CATEGORY_SIGNUP'] == categoria]\n",
    "    total_assinantes_categoria = total_categoria['SUBSCRIPTION_START_DATE'].notna().sum()\n",
    "    taxa_conversao_categoria = total_assinantes_categoria / len(total_categoria) * 100\n",
    "    \n",
    "    print(f'{categoria}: {taxa_conversao_categoria:.2f}%')"
   ]
  },
  {
   "cell_type": "markdown",
   "metadata": {},
   "source": [
    "#### Visualizações de Graficos"
   ]
  },
  {
   "cell_type": "markdown",
   "metadata": {},
   "source": [
    "Visão Assinaturas\n"
   ]
  },
  {
   "cell_type": "code",
   "execution_count": null,
   "metadata": {},
   "outputs": [],
   "source": [
    "import plotly.express as px\n",
    "\n",
    "total_trial = len(base_final)\n",
    "total_assinantes = base_final['SUBSCRIPTION_START_DATE'].notna().sum()\n",
    "taxa_conversao = total_assinantes / total_trial * 100\n",
    "\n",
    "fig = px.pie(values=[total_assinantes, total_trial - total_assinantes],\n",
    "             names=['Assinantes', 'Não Assinantes'],\n",
    "             title='Taxa de Conversão de Trials para Assinantes',\n",
    "             color_discrete_sequence=px.colors.qualitative.Pastel)\n",
    "\n",
    "fig.update_traces(textinfo='percent+label', \n",
    "                  pull=[0.1, 0], \n",
    "                  marker=dict(line=dict(color='black', width=2))) \n",
    "\n",
    "fig.update_layout(title_font_size=24, \n",
    "                  legend=dict(title='Status', title_font_size=14, font_size=12), \n",
    "                  annotations=[dict(text='Taxa de Conversão', x=0.5, y=0.5, font_size=20, showarrow=False)]) \n",
    "\n",
    "fig.show()"
   ]
  },
  {
   "cell_type": "markdown",
   "metadata": {},
   "source": [
    "Atividade Durante o Trial"
   ]
  },
  {
   "cell_type": "code",
   "execution_count": null,
   "metadata": {},
   "outputs": [],
   "source": [
    "atividades_validas_medias = base_final['VALID_ACTIVITIES_COUNT'].astype(float).mean()\n",
    "atividades_invalidas_medias = base_final['INVALID_ACTIVITIES_COUNT'].astype(float).mean()\n",
    "\n",
    "fig = px.bar(x=['Atividades Válidas Médias', 'Atividades Inválidas Médias'],\n",
    "             y=[atividades_validas_medias, atividades_invalidas_medias],\n",
    "             title='Atividades Médias por Trial',\n",
    "             text_auto=True,\n",
    "             labels={'x': 'Tipo de Atividade', 'y': 'Média de Atividades'})\n",
    "fig.show()"
   ]
  },
  {
   "cell_type": "markdown",
   "metadata": {},
   "source": [
    "Análise por Categoria de Interesse\n"
   ]
  },
  {
   "cell_type": "code",
   "execution_count": null,
   "metadata": {},
   "outputs": [],
   "source": [
    "base_final['IS_SUBSCRIBED'] = base_final['SUBSCRIPTION_START_DATE'].notna()\n",
    "conversion_rates = base_final.groupby('INTEREST_CATEGORY_SIGNUP')['IS_SUBSCRIBED'].mean() * 100\n",
    "\n",
    "fig = px.bar(conversion_rates, x=conversion_rates.index, y=conversion_rates.values, title='Taxa de Conversão por Categoria de Interesse',\n",
    "             text_auto=True,\n",
    "             labels={'INTEREST_CATEGORY_SIGNUP': 'Categoria de Interesse', 'y': 'Taxa de Conversão (%)'})\n",
    "fig.show()"
   ]
  },
  {
   "cell_type": "markdown",
   "metadata": {},
   "source": [
    "Análise por Dia da Semana"
   ]
  },
  {
   "cell_type": "code",
   "execution_count": null,
   "metadata": {},
   "outputs": [],
   "source": [
    "dias_da_semana_ordem = ['Segunda-feira', 'Terça-feira', 'Quarta-feira', 'Quinta-feira', 'Sexta-feira', 'Sábado', 'Domingo']\n",
    "base_final['TRIAL_START_DAY_NAME'] = pd.Categorical(base_final['TRIAL_START_DAY_NAME'], categories=dias_da_semana_ordem, ordered=True)\n",
    "\n",
    "start_day_counts = base_final['TRIAL_START_DAY_NAME'].value_counts().sort_index()\n",
    "\n",
    "fig = px.bar(start_day_counts, \n",
    "             x=start_day_counts.index, \n",
    "             y=start_day_counts.values, \n",
    "             title='Trials Iniciados por Dia da Semana',\n",
    "             text_auto=True,\n",
    "             labels={'TRIAL_START_DAY_NAME': 'Dia da Semana', 'y': 'Quantidade'})\n",
    "fig.show()"
   ]
  }
 ],
 "metadata": {
  "kernelspec": {
   "display_name": "Python 3",
   "language": "python",
   "name": "python3"
  },
  "language_info": {
   "codemirror_mode": {
    "name": "ipython",
    "version": 3
   },
   "file_extension": ".py",
   "mimetype": "text/x-python",
   "name": "python",
   "nbconvert_exporter": "python",
   "pygments_lexer": "ipython3",
   "version": "3.12.3"
  }
 },
 "nbformat": 4,
 "nbformat_minor": 2
}
